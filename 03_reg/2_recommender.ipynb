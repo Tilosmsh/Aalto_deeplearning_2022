{
 "cells": [
  {
   "cell_type": "markdown",
   "metadata": {
    "deletable": false,
    "editable": false,
    "nbgrader": {
     "cell_type": "markdown",
     "checksum": "b04b17cfbd0cd8b33d4effd80cf79090",
     "grade": false,
     "grade_id": "cell-c793b2b7fc5465d8",
     "locked": true,
     "schema_version": 3,
     "solution": false,
     "task": false
    }
   },
   "source": [
    "<div class=\"alert alert-block alert-info\">\n",
    "<b>Deadline:</b> March 23, 2022 (Wednesday) 23:00\n",
    "</div>\n",
    "\n",
    "# Exercise 2. Recommender system\n",
    "\n",
    "In this exercise, your task is to design a recommender system.\n",
    "\n",
    "## Learning goals:\n",
    "* Practise tuning a neural network model by using different regularization methods."
   ]
  },
  {
   "cell_type": "code",
   "execution_count": 1,
   "metadata": {},
   "outputs": [],
   "source": [
    "import os\n",
    "import pandas as pd\n",
    "import numpy as np\n",
    "import matplotlib.pyplot as plt\n",
    "\n",
    "import torch\n",
    "import torch.nn as nn\n",
    "import torch.optim as optim\n",
    "import torch.nn.functional as F\n",
    "import torch.utils.data as Data\n",
    "\n",
    "import tools\n",
    "import data"
   ]
  },
  {
   "cell_type": "code",
   "execution_count": 2,
   "metadata": {},
   "outputs": [],
   "source": [
    "skip_training = True  # Set this flag to True before validation and submission"
   ]
  },
  {
   "cell_type": "code",
   "execution_count": 3,
   "metadata": {
    "deletable": false,
    "editable": false,
    "nbgrader": {
     "cell_type": "code",
     "checksum": "97f36f0a997d795b2db131168549818c",
     "grade": true,
     "grade_id": "cell-281020e1f967884d",
     "locked": true,
     "points": 0,
     "schema_version": 3,
     "solution": false,
     "task": false
    }
   },
   "outputs": [],
   "source": [
    "# During evaluation, this cell sets skip_training to True\n",
    "# skip_training = True\n",
    "\n",
    "import tools, warnings\n",
    "warnings.showwarning = tools.customwarn"
   ]
  },
  {
   "cell_type": "code",
   "execution_count": 4,
   "metadata": {},
   "outputs": [
    {
     "name": "stdout",
     "output_type": "stream",
     "text": [
      "The data directory is /coursedata\n"
     ]
    }
   ],
   "source": [
    "# When running on your own computer, you can specify the data directory by:\n",
    "# data_dir = tools.select_data_dir('/your/local/data/directory')\n",
    "data_dir = tools.select_data_dir()"
   ]
  },
  {
   "cell_type": "code",
   "execution_count": 5,
   "metadata": {},
   "outputs": [],
   "source": [
    "# Select the device for training (use GPU if you have one)\n",
    "#device = torch.device('cuda:0')\n",
    "device = torch.device('cpu')"
   ]
  },
  {
   "cell_type": "code",
   "execution_count": 6,
   "metadata": {
    "deletable": false,
    "editable": false,
    "nbgrader": {
     "cell_type": "code",
     "checksum": "6dc2c53928c3ad25702c9ac906bc6ac3",
     "grade": false,
     "grade_id": "cell-799c694caf47e754",
     "locked": true,
     "schema_version": 3,
     "solution": false,
     "task": false
    }
   },
   "outputs": [],
   "source": [
    "if skip_training:\n",
    "    # The models are always evaluated on CPU\n",
    "    device = torch.device(\"cpu\")"
   ]
  },
  {
   "cell_type": "markdown",
   "metadata": {
    "deletable": false,
    "editable": false,
    "nbgrader": {
     "cell_type": "markdown",
     "checksum": "59060d908a6d0040774a9a7c24a2b78a",
     "grade": false,
     "grade_id": "cell-93b1b51f03178ceb",
     "locked": true,
     "schema_version": 3,
     "solution": false,
     "task": false
    }
   },
   "source": [
    "## Ratings dataset\n",
    "\n",
    "We will train the recommender system on the dataset in which element consists of three values:\n",
    "* `user_id` - id of the user (the smallest user id is 1)\n",
    "* `item_id` - id of the movie (the smallest item id is 1)\n",
    "* `rating` - rating given by the user to the item (ratings are integer numbers between 1 and 5.\n",
    "\n",
    "The recommender system need to predict the rating for any given pair of `user_id` and `item_id`.\n",
    "\n",
    "We measure the quality of the predicted ratings using the mean-squared error (MSE) loss:\n",
    "$$\n",
    "  \\frac{1}{N}\\sum_{i=1}^N (r_i - \\hat{r}_i)^2\n",
    "$$\n",
    "where $r_i$ is a real rating and $\\hat{r}_i$ is a predicted one.\n",
    "\n",
    "Note: The predicted rating $\\hat{r}_i$ does not have to be an integer number."
   ]
  },
  {
   "cell_type": "code",
   "execution_count": 7,
   "metadata": {
    "deletable": false,
    "editable": false,
    "nbgrader": {
     "cell_type": "code",
     "checksum": "49c9bb6f71c5bebac88f572ebc5fdf21",
     "grade": false,
     "grade_id": "cell-fb7ca3b718244670",
     "locked": true,
     "schema_version": 3,
     "solution": false,
     "task": false
    }
   },
   "outputs": [],
   "source": [
    "trainset = data.RatingsData(root=data_dir, train=True)\n",
    "testset = data.RatingsData(root=data_dir, train=False)"
   ]
  },
  {
   "cell_type": "code",
   "execution_count": 8,
   "metadata": {
    "deletable": false,
    "editable": false,
    "nbgrader": {
     "cell_type": "code",
     "checksum": "aa25e5e6256ec9dcb5dffe5b20d88f87",
     "grade": false,
     "grade_id": "cell-35493e186fda7a43",
     "locked": true,
     "schema_version": 3,
     "solution": false,
     "task": false
    }
   },
   "outputs": [
    {
     "name": "stdout",
     "output_type": "stream",
     "text": [
      "user_id=1, item_id=1, rating=5\n"
     ]
    }
   ],
   "source": [
    "# Print one sample from the dataset\n",
    "x = trainset[0]\n",
    "print(f'user_id={x[0]}, item_id={x[1]}, rating={x[2]}')"
   ]
  },
  {
   "cell_type": "markdown",
   "metadata": {
    "deletable": false,
    "editable": false,
    "nbgrader": {
     "cell_type": "markdown",
     "checksum": "6cab9939fbd855618ea15049c6584c91",
     "grade": false,
     "grade_id": "cell-40d7d3e85e395d42",
     "locked": true,
     "schema_version": 3,
     "solution": false,
     "task": false
    }
   },
   "source": [
    "# Model\n",
    "\n",
    "You need to design a recommender system model with the API described in the cell below.\n",
    "\n",
    "Hints on the model architecture:\n",
    "* You need to use [torch.nn.Embedding](https://pytorch.org/docs/stable/generated/torch.nn.Embedding.html?highlight=embedding#torch.nn.Embedding) layer to convert inputs `user_ids` and `item_ids` into reasonable representations. The idea of the embedding layer is that we want to represent similar users with values that are close to each other. The original representation as integers is not good for that. By using the embedding layer, we can learn such useful representations automatically.\n",
    "\n",
    "### Model tuning\n",
    "\n",
    "In this exercise, you need to tune the architecture of your model to achieve the best performance on the provided test set. You will notice that overfitting is a severe problem for this data: The model can easily overfit the training set producing poor accuracy on the out-of-training (test) data.\n",
    "\n",
    "You need to find an optimal combination of the hyperparameters, with some hyperparameters corresponding to the regularization techniques that we studied in the lecture.\n",
    "\n",
    "The hyperparameters that you are advised to consider:\n",
    "* Learning rate value and learning rate schedule (decresing the learning rate often has positive effect on the model performance)\n",
    "* Number of training epochs\n",
    "* Network size\n",
    "* Weight decay\n",
    "* Early stopping\n",
    "* Dropout\n",
    "* Increase amount of data:\n",
    "  * Data augmentation\n",
    "  * Injecting noise\n",
    "\n",
    "You can tune the hyperparameters by, for example, grid search, random search or manual tuning. In that case, you can use `architecture` argument to specify the hyperparameters that define the architecture of your network. After you have tuned the hyperparameters, set the default value of this argument to the optimal set of the hyparameters so that the best architecture is used in the accuracy tests.\n",
    "\n",
    "Note:\n",
    "* The number of points that you will get from this exercise depends on the MSE loss on the test set:\n",
    "  * below 1.00: 1 point\n",
    "  * below 0.95: 2 points\n",
    "  * below 0.92: 3 points\n",
    "  * below 0.90: 4 points\n",
    "  * below 0.89: 5 points\n",
    "  * below 0.88: 6 points "
   ]
  },
  {
   "cell_type": "code",
   "execution_count": 9,
   "metadata": {
    "deletable": false,
    "nbgrader": {
     "cell_type": "code",
     "checksum": "0e5876624dba2e059f4aea1c65d27dfa",
     "grade": false,
     "grade_id": "cell-c3cffbe259a08d4d",
     "locked": false,
     "schema_version": 3,
     "solution": true,
     "task": false
    }
   },
   "outputs": [],
   "source": [
    "class RecommenderSystem(nn.Module):\n",
    "    def __init__(self, n_users, n_items,\n",
    "                 architecture=None  # If you want to tune the hyperparameters automatically (e.g. using random\n",
    "                                    # search), use this argument to specify the hyperparameters that define the\n",
    "                                    # architecture of your network. After you have tuned the hyperparameters,\n",
    "                                    # set the default value of this argument to the optimal set of the hyparameters\n",
    "                                    # so that the best architecture is used in the accuracy tests.\n",
    "                ):\n",
    "        \"\"\"\n",
    "        Args:\n",
    "          n_users: Number of users.\n",
    "          n_items: Number of items.\n",
    "          architecture: List of\n",
    "              0. Learning rate schedule : dict of key:epoch item:learning rate\n",
    "              1. Number of epochs: int\n",
    "              2. Network size : int\n",
    "              3. Weight decay : float\n",
    "              4. Early stopping : tuple of (patience, tolerance)\n",
    "              5. Dropout : float\n",
    "              6. Data augmentation : int\n",
    "              7. Injecting noise : float: std of noise\n",
    "              8. Embedding dimension : int\n",
    "        \"\"\"\n",
    "        \n",
    "        super(RecommenderSystem, self).__init__()\n",
    "        \n",
    "        self.architecture = architecture if architecture != None else [{0: 0.01, 30: 0.005, 75: 0.002, 100: 0.001}, 125, 5, 0.001, None, 0.1, 0, 0, 100]\n",
    "    \n",
    "        self.lr_schedule = self.architecture[0] if self.architecture[0] != None else {0: 0.01, 30: 0.005, 75: 0.002, 100: 0.001}\n",
    "        \n",
    "        self.n_epochs = self.architecture[1]\n",
    "        \n",
    "        self.network_size = self.architecture[2]\n",
    "        \n",
    "        self.weight_decay = self.architecture[3]\n",
    "        \n",
    "        self.early_stopping = self.architecture[4]\n",
    "        \n",
    "        self.dropout = self.architecture[5]\n",
    "        \n",
    "        self.data_augmentation = self.architecture[6]\n",
    "        self.noise = self.architecture[7]\n",
    "        \n",
    "        self.embedding_dim = self.architecture[8]\n",
    "        \n",
    "        \n",
    "        self.user_embedding = torch.nn.Embedding(n_users+1, self.embedding_dim)\n",
    "        self.item_embedding = torch.nn.Embedding(n_items+1, self.embedding_dim)\n",
    "        \n",
    "        self.fc_layers = torch.nn.ModuleList()\n",
    "        \n",
    "        self.fc_layers.append(nn.Linear(2 * self.embedding_dim, 150))\n",
    "        self.fc_layers.append(nn.ReLU())\n",
    "        if(self.dropout != 0):\n",
    "            self.fc_layers.append(nn.Dropout(self.dropout))\n",
    "        \n",
    "        for i in range(self.network_size):\n",
    "            self.fc_layers.append(nn.Linear(150, 150))\n",
    "            self.fc_layers.append(nn.ReLU())\n",
    "            if(self.dropout != 0):\n",
    "                self.fc_layers.append(nn.Dropout(self.dropout))\n",
    "            \n",
    "        self.fc_layers.append(nn.Linear(150, 50))\n",
    "        self.fc_layers.append(nn.ReLU())\n",
    "        if(self.dropout != 0):\n",
    "                self.fc_layers.append(nn.Dropout(self.dropout))\n",
    "                \n",
    "        self.fc_layers.append(nn.Linear(50, 20))\n",
    "        self.fc_layers.append(nn.ReLU())\n",
    "        if(self.dropout != 0):\n",
    "                self.fc_layers.append(nn.Dropout(self.dropout))\n",
    "                \n",
    "        self.fc_layers.append(nn.Linear(20, 1))\n",
    "\n",
    "        \n",
    "    def forward(self, user_ids, item_ids):\n",
    "        \"\"\"\n",
    "        Args:\n",
    "          user_ids of shape (batch_size): User ids (starting from 1).\n",
    "          item_ids of shape (batch_size): Item ids (starting from 1).\n",
    "        \n",
    "        Returns:\n",
    "          outputs of shape (batch_size): Predictions of ratings.\n",
    "        \"\"\"\n",
    "        u = self.user_embedding(user_ids)\n",
    "        i = self.item_embedding(item_ids)\n",
    "        \n",
    "        x = torch.cat([u, i], 1)\n",
    "        \n",
    "        for i,_ in enumerate(self.fc_layers):\n",
    "            x = self.fc_layers[i](x)\n",
    "                \n",
    "        x = torch.flatten(x)\n",
    "        return x\n",
    "    \n",
    "class EarlyStopping:\n",
    "    def __init__(self, tolerance, patience):\n",
    "        \"\"\"\n",
    "        Args:\n",
    "          patience (int):    Maximum number of epochs with unsuccessful updates.\n",
    "          tolerance (float): We assume that the update is unsuccessful if the validation error is larger\n",
    "                              than the best validation error so far plus this tolerance.\n",
    "        \"\"\"\n",
    "        self.tolerance = tolerance\n",
    "        self.patience = patience\n",
    "    \n",
    "    def stop_criterion(self, val_errors):\n",
    "        \"\"\"\n",
    "        Args:\n",
    "          val_errors (iterable): Validation errors after every update during training.\n",
    "        \n",
    "        Returns: True if training should be stopped: when the validation error is larger than the best\n",
    "                  validation error obtained so far (with given tolearance) for patience epochs (number of consecutive epochs for which the criterion is satisfied).\n",
    "                 \n",
    "                 Otherwise, False.\n",
    "        \"\"\"\n",
    "        if len(val_errors) <= self.patience:\n",
    "            return False\n",
    "\n",
    "        min_val_error = min(val_errors)\n",
    "        val_errors = np.array(val_errors[-self.patience:])\n",
    "        return all(val_errors > min_val_error + self.tolerance)\n",
    "    \n",
    "\n",
    "def compute_loss(model, u, i, y):\n",
    "    model.eval()\n",
    "    with torch.no_grad():\n",
    "        outputs = model(u, i)\n",
    "        loss = F.mse_loss(outputs, y)\n",
    "        return loss.cpu().numpy()\n",
    "    \n",
    "def add_noise(x, noise_std):\n",
    "    noise = np.random.normal(scale=noise_std, size=np.shape(x))\n",
    "    return np.add(x, noise).float()\n",
    "\n",
    "def print_progress(epoch, train_error, val_error):\n",
    "    print(\"Epoch: {epoch}, train_error: {train_error}, val_error: {val_error}\".format(epoch = epoch, train_error = train_error, val_error = val_error))\n"
   ]
  },
  {
   "cell_type": "markdown",
   "metadata": {
    "deletable": false,
    "editable": false,
    "nbgrader": {
     "cell_type": "markdown",
     "checksum": "01bb09f330da9db46e6c8215cba93908",
     "grade": false,
     "grade_id": "cell-4963b96623072e67",
     "locked": true,
     "schema_version": 3,
     "solution": false,
     "task": false
    }
   },
   "source": [
    "You can test the shapes of the model outputs using the function below."
   ]
  },
  {
   "cell_type": "code",
   "execution_count": 10,
   "metadata": {
    "deletable": false,
    "editable": false,
    "nbgrader": {
     "cell_type": "code",
     "checksum": "66e06523fac3af0ef33791d1f4b8b3d8",
     "grade": false,
     "grade_id": "cell-c6083c824af45d0c",
     "locked": true,
     "schema_version": 3,
     "solution": false,
     "task": false
    }
   },
   "outputs": [
    {
     "name": "stdout",
     "output_type": "stream",
     "text": [
      "torch.Size([10])\n",
      "Success\n"
     ]
    }
   ],
   "source": [
    "def test_RecommenderSystem_shapes():\n",
    "    n_users, n_items = 100, 1000\n",
    "    model = RecommenderSystem(n_users, n_items)\n",
    "    batch_size = 10\n",
    "    user_ids = torch.arange(1, batch_size+1)\n",
    "    item_ids = torch.arange(1, batch_size+1)\n",
    "    output = model(user_ids, item_ids)\n",
    "    print(output.shape)\n",
    "    assert output.shape == torch.Size([batch_size]), \"Wrong output shape.\"\n",
    "    print('Success')\n",
    "\n",
    "test_RecommenderSystem_shapes()"
   ]
  },
  {
   "cell_type": "code",
   "execution_count": 11,
   "metadata": {
    "deletable": false,
    "editable": false,
    "nbgrader": {
     "cell_type": "code",
     "checksum": "450b5cbba95ea6ca97ff7d0c086abcc2",
     "grade": true,
     "grade_id": "cell-77bda8eb73762ef9",
     "locked": true,
     "points": 0,
     "schema_version": 3,
     "solution": false,
     "task": false
    }
   },
   "outputs": [],
   "source": [
    "# This cell is reserved for testing"
   ]
  },
  {
   "cell_type": "markdown",
   "metadata": {
    "deletable": false,
    "editable": false,
    "nbgrader": {
     "cell_type": "markdown",
     "checksum": "84fa4c2396a00177cefc9ae035b5ad1c",
     "grade": false,
     "grade_id": "cell-ba8b7cb0e60e0809",
     "locked": true,
     "schema_version": 3,
     "solution": false,
     "task": false
    }
   },
   "source": [
    "## Train the model\n",
    "\n",
    "You need to train a recommender system using **only the training data.** Please use the test set to select the best model: the model that generalizes best to out-of-training data.\n",
    "\n",
    "**IMPORTANT**:\n",
    "* During testing, the predictions are produced by `predictions = model(user_ids, item_ids)` with the `user_ids` and `item_ids` loaded from `RatingsData`.\n",
    "* There is a size limit of 30Mb for saved models."
   ]
  },
  {
   "cell_type": "code",
   "execution_count": 12,
   "metadata": {
    "deletable": false,
    "editable": false,
    "nbgrader": {
     "cell_type": "code",
     "checksum": "9de82b03bc4514fc2e9c8e71fe0eab6f",
     "grade": false,
     "grade_id": "cell-d149dfc0245469b4",
     "locked": true,
     "schema_version": 3,
     "solution": false,
     "task": false
    }
   },
   "outputs": [],
   "source": [
    "# Create the model\n",
    "# IMPORTANT: the default value of the architecture argument should define your best model.\n",
    "model = RecommenderSystem(trainset.n_users, trainset.n_items)"
   ]
  },
  {
   "cell_type": "code",
   "execution_count": 13,
   "metadata": {
    "deletable": false,
    "nbgrader": {
     "cell_type": "code",
     "checksum": "9ae611f86dc42c930a1421847d3310e8",
     "grade": false,
     "grade_id": "cell-d821843867334aed",
     "locked": false,
     "schema_version": 3,
     "solution": true,
     "task": false
    }
   },
   "outputs": [
    {
     "name": "stdout",
     "output_type": "stream",
     "text": [
      "Epoch: 0, train_error: 1.4465385675430298, val_error: 1.0166783332824707\n",
      "Epoch: 1, train_error: 0.9412094354629517, val_error: 0.9543769955635071\n",
      "Epoch: 2, train_error: 0.8978543281555176, val_error: 0.9584816098213196\n",
      "Epoch: 3, train_error: 0.8859272599220276, val_error: 0.9577786922454834\n",
      "Epoch: 4, train_error: 0.8803480267524719, val_error: 0.9321579933166504\n",
      "Epoch: 5, train_error: 0.8833151459693909, val_error: 0.9332506656646729\n",
      "Epoch: 6, train_error: 0.8887622356414795, val_error: 0.9797494411468506\n",
      "Epoch: 7, train_error: 0.8869181871414185, val_error: 0.9549263119697571\n",
      "Epoch: 8, train_error: 0.8853926062583923, val_error: 0.9450538158416748\n",
      "Epoch: 9, train_error: 0.8898065090179443, val_error: 0.9902920722961426\n",
      "Epoch: 10, train_error: 0.8995453119277954, val_error: 0.9648863077163696\n",
      "Epoch: 11, train_error: 0.8982700109481812, val_error: 0.9476209878921509\n",
      "Epoch: 12, train_error: 0.9013797044754028, val_error: 0.9698861837387085\n",
      "Epoch: 13, train_error: 0.8938551545143127, val_error: 0.9473474025726318\n",
      "Epoch: 14, train_error: 0.8929208517074585, val_error: 0.9530408382415771\n",
      "Epoch: 15, train_error: 0.8934572339057922, val_error: 0.9666739106178284\n",
      "Epoch: 16, train_error: 0.8988130688667297, val_error: 0.9572579264640808\n",
      "Epoch: 17, train_error: 0.8896165490150452, val_error: 0.9500119090080261\n",
      "Epoch: 18, train_error: 0.8921963572502136, val_error: 0.9898605346679688\n",
      "Epoch: 19, train_error: 0.8950502276420593, val_error: 0.9544294476509094\n",
      "Epoch: 20, train_error: 0.8929129838943481, val_error: 0.961018443107605\n",
      "Epoch: 21, train_error: 0.8908367156982422, val_error: 0.9842036366462708\n",
      "Epoch: 22, train_error: 0.8878609538078308, val_error: 0.9604904055595398\n",
      "Epoch: 23, train_error: 0.8947473168373108, val_error: 0.9560952186584473\n",
      "Epoch: 24, train_error: 0.9089946150779724, val_error: 0.931104302406311\n",
      "Epoch: 25, train_error: 0.8943149447441101, val_error: 0.9376656413078308\n",
      "Epoch: 26, train_error: 0.8979225158691406, val_error: 0.9700835943222046\n",
      "Epoch: 27, train_error: 0.8939378261566162, val_error: 0.986818253993988\n",
      "Epoch: 28, train_error: 0.8949014544487, val_error: 0.9615344405174255\n",
      "Epoch: 29, train_error: 0.8917563557624817, val_error: 0.9427891373634338\n",
      "Epoch: 30, train_error: 0.8752487897872925, val_error: 0.9124769568443298\n",
      "Epoch: 31, train_error: 0.8621676564216614, val_error: 0.9144479632377625\n",
      "Epoch: 32, train_error: 0.8610243201255798, val_error: 0.9165136814117432\n",
      "Epoch: 33, train_error: 0.8585949540138245, val_error: 0.9046661853790283\n",
      "Epoch: 34, train_error: 0.857800304889679, val_error: 0.9038137197494507\n",
      "Epoch: 35, train_error: 0.8594745397567749, val_error: 0.9067104458808899\n",
      "Epoch: 36, train_error: 0.8583170175552368, val_error: 0.8976573348045349\n",
      "Epoch: 37, train_error: 0.857276201248169, val_error: 0.9025051593780518\n",
      "Epoch: 38, train_error: 0.8582155108451843, val_error: 0.9136818051338196\n",
      "Epoch: 39, train_error: 0.8603196740150452, val_error: 0.9200930595397949\n",
      "Epoch: 40, train_error: 0.8568528890609741, val_error: 0.8954293727874756\n",
      "Epoch: 41, train_error: 0.8563985228538513, val_error: 0.9010946750640869\n",
      "Epoch: 42, train_error: 0.8523023724555969, val_error: 0.9148632884025574\n",
      "Epoch: 43, train_error: 0.857912003993988, val_error: 0.9201654195785522\n",
      "Epoch: 44, train_error: 0.8560842871665955, val_error: 0.9342248439788818\n",
      "Epoch: 45, train_error: 0.8549056053161621, val_error: 0.9015123248100281\n",
      "Epoch: 46, train_error: 0.8566602468490601, val_error: 0.9143006801605225\n",
      "Epoch: 47, train_error: 0.8551197648048401, val_error: 0.8992898464202881\n",
      "Epoch: 48, train_error: 0.8564302325248718, val_error: 0.908001184463501\n",
      "Epoch: 49, train_error: 0.8577316999435425, val_error: 0.9189077615737915\n",
      "Epoch: 50, train_error: 0.8552517890930176, val_error: 0.9003860354423523\n",
      "Epoch: 51, train_error: 0.8543365001678467, val_error: 0.898231029510498\n",
      "Epoch: 52, train_error: 0.8535574078559875, val_error: 0.9045579433441162\n",
      "Epoch: 53, train_error: 0.8545714020729065, val_error: 0.9047697186470032\n",
      "Epoch: 54, train_error: 0.8549535870552063, val_error: 0.9098459482192993\n",
      "Epoch: 55, train_error: 0.856143593788147, val_error: 0.9042240381240845\n",
      "Epoch: 56, train_error: 0.8569738864898682, val_error: 0.9109616875648499\n",
      "Epoch: 57, train_error: 0.8530847430229187, val_error: 0.8946517705917358\n",
      "Epoch: 58, train_error: 0.8547990322113037, val_error: 0.9142569899559021\n",
      "Epoch: 59, train_error: 0.856546938419342, val_error: 0.8941999673843384\n",
      "Epoch: 60, train_error: 0.8551139831542969, val_error: 0.9068197011947632\n",
      "Epoch: 61, train_error: 0.8519822955131531, val_error: 0.9003933668136597\n",
      "Epoch: 62, train_error: 0.8554173111915588, val_error: 0.9200835227966309\n",
      "Epoch: 63, train_error: 0.8583941459655762, val_error: 0.9359725117683411\n",
      "Epoch: 64, train_error: 0.8539352416992188, val_error: 0.9006470441818237\n",
      "Epoch: 65, train_error: 0.8532650470733643, val_error: 0.9212419986724854\n",
      "Epoch: 66, train_error: 0.8576387166976929, val_error: 0.9216605424880981\n",
      "Epoch: 67, train_error: 0.8552043437957764, val_error: 0.935232400894165\n",
      "Epoch: 68, train_error: 0.855876624584198, val_error: 0.9173827171325684\n",
      "Epoch: 69, train_error: 0.8578782677650452, val_error: 0.8994075059890747\n",
      "Epoch: 70, train_error: 0.8529264330863953, val_error: 0.922776460647583\n",
      "Epoch: 71, train_error: 0.8558079600334167, val_error: 0.9236916899681091\n",
      "Epoch: 72, train_error: 0.8563957810401917, val_error: 0.9248455762863159\n",
      "Epoch: 73, train_error: 0.8582503795623779, val_error: 0.8921988010406494\n",
      "Epoch: 74, train_error: 0.855991542339325, val_error: 0.8968389630317688\n",
      "Epoch: 75, train_error: 0.8449400067329407, val_error: 0.8801672458648682\n",
      "Epoch: 76, train_error: 0.8348047137260437, val_error: 0.8911099433898926\n",
      "Epoch: 77, train_error: 0.8312258720397949, val_error: 0.8869524598121643\n",
      "Epoch: 78, train_error: 0.8302078247070312, val_error: 0.8859767317771912\n",
      "Epoch: 79, train_error: 0.8287599086761475, val_error: 0.8807144165039062\n",
      "Epoch: 80, train_error: 0.8301960825920105, val_error: 0.8762233853340149\n",
      "Epoch: 81, train_error: 0.8287157416343689, val_error: 0.8799020648002625\n",
      "Epoch: 82, train_error: 0.8276602029800415, val_error: 0.8764132857322693\n",
      "Epoch: 83, train_error: 0.826933741569519, val_error: 0.8802056908607483\n",
      "Epoch: 84, train_error: 0.8281094431877136, val_error: 0.8927786350250244\n",
      "Epoch: 85, train_error: 0.8274098038673401, val_error: 0.8824654221534729\n",
      "Epoch: 86, train_error: 0.8259499073028564, val_error: 0.8891038298606873\n",
      "Epoch: 87, train_error: 0.8245443105697632, val_error: 0.8783160448074341\n",
      "Epoch: 88, train_error: 0.8243420124053955, val_error: 0.8838447332382202\n",
      "Epoch: 89, train_error: 0.8222748041152954, val_error: 0.8818220496177673\n",
      "Epoch: 90, train_error: 0.8208001852035522, val_error: 0.8781931400299072\n",
      "Epoch: 91, train_error: 0.8166671991348267, val_error: 0.8790144324302673\n",
      "Epoch: 92, train_error: 0.8163678050041199, val_error: 0.8781583905220032\n",
      "Epoch: 93, train_error: 0.812365710735321, val_error: 0.8729029893875122\n",
      "Epoch: 94, train_error: 0.8099644184112549, val_error: 0.8807095289230347\n",
      "Epoch: 95, train_error: 0.8039032220840454, val_error: 0.8768109679222107\n",
      "Epoch: 96, train_error: 0.7962559461593628, val_error: 0.8687855005264282\n",
      "Epoch: 97, train_error: 0.7907038331031799, val_error: 0.8571273684501648\n",
      "Epoch: 98, train_error: 0.7842602729797363, val_error: 0.8619577884674072\n",
      "Epoch: 99, train_error: 0.7826254367828369, val_error: 0.8690428733825684\n",
      "Epoch: 100, train_error: 0.7648590207099915, val_error: 0.8630113005638123\n",
      "Epoch: 101, train_error: 0.7531193494796753, val_error: 0.8600142598152161\n",
      "Epoch: 102, train_error: 0.7497966885566711, val_error: 0.8564295172691345\n",
      "Epoch: 103, train_error: 0.7458599209785461, val_error: 0.8551638722419739\n",
      "Epoch: 104, train_error: 0.7441084384918213, val_error: 0.8674485683441162\n",
      "Epoch: 105, train_error: 0.741823136806488, val_error: 0.8590832352638245\n",
      "Epoch: 106, train_error: 0.7403294444084167, val_error: 0.8600160479545593\n",
      "Epoch: 107, train_error: 0.7385900616645813, val_error: 0.8639376759529114\n",
      "Epoch: 108, train_error: 0.7344335317611694, val_error: 0.8632150292396545\n",
      "Epoch: 109, train_error: 0.734605610370636, val_error: 0.8624204993247986\n",
      "Epoch: 110, train_error: 0.7321366667747498, val_error: 0.8644726276397705\n"
     ]
    },
    {
     "name": "stdout",
     "output_type": "stream",
     "text": [
      "Epoch: 111, train_error: 0.7289848327636719, val_error: 0.8739311099052429\n",
      "Epoch: 112, train_error: 0.7288282513618469, val_error: 0.8642002940177917\n",
      "Epoch: 113, train_error: 0.7255070209503174, val_error: 0.8701902627944946\n",
      "Epoch: 114, train_error: 0.7234106659889221, val_error: 0.8822857737541199\n",
      "Epoch: 115, train_error: 0.7190868258476257, val_error: 0.8674623966217041\n",
      "Epoch: 116, train_error: 0.71738600730896, val_error: 0.8679208159446716\n",
      "Epoch: 117, train_error: 0.7139315009117126, val_error: 0.867800235748291\n",
      "Epoch: 118, train_error: 0.7126080393791199, val_error: 0.8642305731773376\n",
      "Epoch: 119, train_error: 0.709266185760498, val_error: 0.8785386681556702\n",
      "Epoch: 120, train_error: 0.7069787383079529, val_error: 0.8787716627120972\n",
      "Epoch: 121, train_error: 0.7050453424453735, val_error: 0.8959397077560425\n",
      "Epoch: 122, train_error: 0.7004585266113281, val_error: 0.8767597675323486\n",
      "Epoch: 123, train_error: 0.6984192728996277, val_error: 0.8693632483482361\n",
      "Epoch: 124, train_error: 0.6952710151672363, val_error: 0.8721029162406921\n"
     ]
    }
   ],
   "source": [
    "# Implement the training loop in this cell\n",
    "optimizer = torch.optim.Adam(model.parameters(), weight_decay = model.weight_decay)\n",
    "criterion = nn.MSELoss()\n",
    "\n",
    "train_loader = Data.DataLoader(\n",
    "    dataset = trainset,\n",
    "    batch_size = model.embedding_dim,\n",
    "    shuffle = True,\n",
    "    drop_last = True\n",
    ")\n",
    "test_loader = Data.DataLoader(\n",
    "    dataset = testset,\n",
    "    batch_size = model.embedding_dim,\n",
    "    shuffle = True,\n",
    "    drop_last = True\n",
    ")\n",
    "\n",
    "if not skip_training:\n",
    "    n_epochs = model.n_epochs\n",
    "    train_errors = []  # Keep track of the training data\n",
    "    val_errors = []  # Keep track of the validation data\n",
    "    \n",
    "    if model.early_stopping != None:\n",
    "        early_stop = EarlyStopping(tolerance=model.early_stopping[0], patience=model.early_stopping[1])\n",
    "\n",
    "    for epoch in range(n_epochs):\n",
    "        \n",
    "        train_errors_loc = []\n",
    "        for step, (u, i, r) in enumerate(train_loader):\n",
    "            model.train()\n",
    "            u = u.to(device)\n",
    "            i = i.to(device)\n",
    "            r = r.to(device)\n",
    "\n",
    "\n",
    "            if epoch in model.lr_schedule.keys():\n",
    "                for g in optimizer.param_groups:\n",
    "                    g['lr'] = model.lr_schedule[epoch]\n",
    "\n",
    "\n",
    "            if model.noise != 0:\n",
    "                predictions = model(u, i)\n",
    "            else:\n",
    "                predictions = model(u, i)\n",
    "\n",
    "            loss = criterion(predictions.to(torch.float32), r.to(torch.float32))\n",
    "            optimizer.zero_grad()\n",
    "\n",
    "            loss.backward()\n",
    "            optimizer.step()\n",
    "\n",
    "            train_errors_loc.append(compute_loss(model, u, i, r))\n",
    "            \n",
    "        \n",
    "        val_errors_loc = []\n",
    "        for step, (u, i, r) in enumerate(test_loader):\n",
    "\n",
    "            val_errors_loc.append(compute_loss(model, u, i, r))\n",
    "            \n",
    "        if model.early_stopping != None and early_stop.stop_criterion(val_errors):\n",
    "            print(val_errors[epoch])\n",
    "            print('Stop after %d epochs' % epoch)\n",
    "            break\n",
    "        \n",
    "        train_errors.append(np.mean(train_errors_loc))\n",
    "        val_errors.append(np.mean(val_errors_loc))\n",
    "        \n",
    "        print_progress(epoch, train_errors[epoch], val_errors[epoch])\n",
    "        \n",
    "        "
   ]
  },
  {
   "cell_type": "code",
   "execution_count": 14,
   "metadata": {},
   "outputs": [
    {
     "name": "stdout",
     "output_type": "stream",
     "text": [
      "Model saved to recsys.pth.\n"
     ]
    }
   ],
   "source": [
    "# Save the model to disk (the pth-files will be submitted automatically together with your notebook)\n",
    "# Set confirm=False if you do not want to be asked for confirmation before saving.\n",
    "if not skip_training:\n",
    "    tools.save_model(model, 'recsys.pth', confirm=False)"
   ]
  },
  {
   "cell_type": "code",
   "execution_count": 15,
   "metadata": {
    "deletable": false,
    "editable": false,
    "nbgrader": {
     "cell_type": "code",
     "checksum": "13f9cd9f77491dbdc099d1f0abb4ddbd",
     "grade": false,
     "grade_id": "cell-f1407ea48ef44720",
     "locked": true,
     "schema_version": 3,
     "solution": false,
     "task": false
    }
   },
   "outputs": [],
   "source": [
    "# This cell loads your best model\n",
    "if skip_training:\n",
    "    model = RecommenderSystem(trainset.n_users, trainset.n_items)\n",
    "    tools.load_model(model, 'recsys.pth', device)"
   ]
  },
  {
   "cell_type": "markdown",
   "metadata": {
    "deletable": false,
    "editable": false,
    "nbgrader": {
     "cell_type": "markdown",
     "checksum": "f3a0c9a862742764c451006091c5295f",
     "grade": false,
     "grade_id": "cell-0968d93ce893a867",
     "locked": true,
     "schema_version": 3,
     "solution": false,
     "task": false
    }
   },
   "source": [
    "The next cell tests the accuracy of your best model. It is enough to submit .pth files.\n",
    "\n",
    "**IMPORTANT**:\n",
    "* During testing, the predictions are produced by `predictions = model(user_ids, item_ids)` with the `user_ids` and `item_ids` loaded from `RatingsData`.\n",
    "* There is a size limit of 30Mb for saved models. Please make sure that your model loads in the cell above."
   ]
  },
  {
   "cell_type": "code",
   "execution_count": 16,
   "metadata": {
    "deletable": false,
    "editable": false,
    "nbgrader": {
     "cell_type": "code",
     "checksum": "d5da1ca794d9decc9969a31342685666",
     "grade": true,
     "grade_id": "cell-bffe8fbb471081d9",
     "locked": true,
     "points": 1,
     "schema_version": 3,
     "solution": false,
     "task": false
    }
   },
   "outputs": [],
   "source": [
    "# This cell tests the accuracy of your best model."
   ]
  },
  {
   "cell_type": "code",
   "execution_count": 17,
   "metadata": {
    "deletable": false,
    "editable": false,
    "nbgrader": {
     "cell_type": "code",
     "checksum": "6424893302c13e465c2c75bbe70f8735",
     "grade": true,
     "grade_id": "cell-cd5e14d4b944f427",
     "locked": true,
     "points": 1,
     "schema_version": 3,
     "solution": false,
     "task": false
    }
   },
   "outputs": [],
   "source": [
    "# This cell is reserved for grading"
   ]
  },
  {
   "cell_type": "code",
   "execution_count": 18,
   "metadata": {
    "deletable": false,
    "editable": false,
    "nbgrader": {
     "cell_type": "code",
     "checksum": "1c30f9763e61f52dedcc999c69901c79",
     "grade": true,
     "grade_id": "cell-d6d18ec22f375541",
     "locked": true,
     "points": 1,
     "schema_version": 3,
     "solution": false,
     "task": false
    }
   },
   "outputs": [],
   "source": [
    "# This cell is reserved for grading"
   ]
  },
  {
   "cell_type": "code",
   "execution_count": 19,
   "metadata": {
    "deletable": false,
    "editable": false,
    "nbgrader": {
     "cell_type": "code",
     "checksum": "5bb64cc670252d78e6d0610fc87f818d",
     "grade": true,
     "grade_id": "cell-2a7cbd80cefdfc28",
     "locked": true,
     "points": 1,
     "schema_version": 3,
     "solution": false,
     "task": false
    }
   },
   "outputs": [],
   "source": [
    "# This cell is reserved for grading"
   ]
  },
  {
   "cell_type": "code",
   "execution_count": 20,
   "metadata": {
    "deletable": false,
    "editable": false,
    "nbgrader": {
     "cell_type": "code",
     "checksum": "655de66b979f1ac0bc9009ef71201bee",
     "grade": true,
     "grade_id": "cell-583d64dae36d06ae",
     "locked": true,
     "points": 1,
     "schema_version": 3,
     "solution": false,
     "task": false
    }
   },
   "outputs": [],
   "source": [
    "# This cell is reserved for grading"
   ]
  },
  {
   "cell_type": "code",
   "execution_count": 21,
   "metadata": {
    "deletable": false,
    "editable": false,
    "nbgrader": {
     "cell_type": "code",
     "checksum": "3df236f1b1d600d0ef716148cce58c46",
     "grade": true,
     "grade_id": "cell-545fe9918fc5b54a",
     "locked": true,
     "points": 1,
     "schema_version": 3,
     "solution": false,
     "task": false
    }
   },
   "outputs": [],
   "source": [
    "# This cell is reserved for grading"
   ]
  },
  {
   "cell_type": "code",
   "execution_count": 22,
   "metadata": {
    "deletable": false,
    "editable": false,
    "nbgrader": {
     "cell_type": "code",
     "checksum": "845675607fd47b1ece1e7c5288e11561",
     "grade": true,
     "grade_id": "cell-a890dc0ffcb07f46",
     "locked": true,
     "points": 0,
     "schema_version": 3,
     "solution": false,
     "task": false
    }
   },
   "outputs": [],
   "source": [
    "# This cell is reserved for grading"
   ]
  }
 ],
 "metadata": {
  "kernelspec": {
   "display_name": "Python 3",
   "language": "python",
   "name": "python3"
  },
  "language_info": {
   "codemirror_mode": {
    "name": "ipython",
    "version": 3
   },
   "file_extension": ".py",
   "mimetype": "text/x-python",
   "name": "python",
   "nbconvert_exporter": "python",
   "pygments_lexer": "ipython3",
   "version": "3.9.5"
  },
  "varInspector": {
   "cols": {
    "lenName": 16,
    "lenType": 16,
    "lenVar": 40
   },
   "kernels_config": {
    "python": {
     "delete_cmd_postfix": "",
     "delete_cmd_prefix": "del ",
     "library": "var_list.py",
     "varRefreshCmd": "print(var_dic_list())"
    },
    "r": {
     "delete_cmd_postfix": ") ",
     "delete_cmd_prefix": "rm(",
     "library": "var_list.r",
     "varRefreshCmd": "cat(var_dic_list()) "
    }
   },
   "types_to_exclude": [
    "module",
    "function",
    "builtin_function_or_method",
    "instance",
    "_Feature"
   ],
   "window_display": false
  }
 },
 "nbformat": 4,
 "nbformat_minor": 2
}
